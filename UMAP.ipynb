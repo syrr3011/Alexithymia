{
 "cells": [
  {
   "cell_type": "code",
   "execution_count": null,
   "metadata": {
    "colab": {
     "background_save": true,
     "base_uri": "https://localhost:8080/",
     "height": 1000
    },
    "id": "JQ8sDDa91FK8",
    "outputId": "33f3a4fa-ceb3-4ac6-8176-2bfe7b4deba6"
   },
   "outputs": [],
   "source": [
    "import tensorflow as tf\n",
    "import numpy as np\n",
    "import matplotlib.pyplot as plt\n",
    "import umap\n",
    "\n",
    "from google.colab import drive\n",
    "drive.mount('/content/drive')\n",
    "\n",
    "# 감정 레이블 정의\n",
    "emotion_labels = {\n",
    "    \"happy\": 0, \"sad\": 1, \"anger\": 2, \"surprise\": 3, \"disgust\": 4, \"neutral\": 5, \"fear\": 6,\n",
    "}\n",
    "\n",
    "# UMAP 시각화 함수\n",
    "def visualize_umap(features, labels, title):\n",
    "    reducer = umap.UMAP(n_neighbors=30, min_dist=0.1, random_state=42)\n",
    "    embedding = reducer.fit_transform(features)\n",
    "\n",
    "    plt.figure(figsize=(10, 10))\n",
    "    scatter = plt.scatter(embedding[:, 0], embedding[:, 1], c=labels, cmap='viridis')\n",
    "    plt.legend(handles=scatter.legend_elements()[0], labels=list(emotion_labels.keys()), fontsize=18)\n",
    "    plt.title(title, fontsize=27)\n",
    "    plt.show()\n",
    "\n",
    "# TFRecord 파일 경로와 특성 설명\n",
    "tfrecord_path = '/content/drive/MyDrive/Validation/EWHA_Alexithymia/PLEASE_FINAL/YES_Z_train.tfrecord'\n",
    "feature_description = {\n",
    "    'image': tf.io.FixedLenFeature([], tf.string),\n",
    "    'landmarks': tf.io.FixedLenFeature([468 * 3], tf.float32),\n",
    "    'label': tf.io.FixedLenFeature([], tf.int64),\n",
    "    'z_values': tf.io.FixedLenFeature([8], tf.float32)\n",
    "}\n",
    "\n",
    "# TFRecord 파일에서 데이터 로드 함수\n",
    "def load_data(tfrecord_path, feature_description):\n",
    "    def parse_tfrecord_fn(example):\n",
    "        return tf.io.parse_single_example(example, feature_description)\n",
    "\n",
    "    dataset = tf.data.TFRecordDataset(tfrecord_path).map(parse_tfrecord_fn)\n",
    "    return dataset\n",
    "\n",
    "# 데이터셋 로드\n",
    "dataset = load_data(tfrecord_path, feature_description)\n",
    "\n",
    "# 데이터 추출 및 변환\n",
    "images, landmarks, z_values, labels = [], [], [], []\n",
    "for record in dataset:\n",
    "    image = tf.io.decode_jpeg(record['image']).numpy().flatten()  # 이미지를 1D 배열로 변환\n",
    "\n",
    "    lm = record['landmarks'].numpy()\n",
    "    zv = record['z_values'].numpy()\n",
    "    label = record['label'].numpy()\n",
    "\n",
    "    images.append(image)\n",
    "    landmarks.append(lm)\n",
    "    z_values.append(zv)\n",
    "    labels.append(label)\n",
    "\n",
    "# UMAP 시각화\n",
    "visualize_umap(np.array(images), np.array(labels), 'Image Data UMAP Visualization')\n",
    "visualize_umap(np.array(landmarks), np.array(labels), 'Landmark Data UMAP Visualization')\n",
    "visualize_umap(np.array(z_values), np.array(labels), 'Z-Values Data UMAP Visualization')\n"
   ]
  }
 ],
 "metadata": {
  "colab": {
   "provenance": []
  },
  "kernelspec": {
   "display_name": "Python 3",
   "name": "python3"
  },
  "language_info": {
   "name": "python"
  }
 },
 "nbformat": 4,
 "nbformat_minor": 0
}
